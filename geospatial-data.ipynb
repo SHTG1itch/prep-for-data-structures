{
 "cells": [
  {
   "cell_type": "markdown",
   "metadata": {
    "id": "Dr1J4M0nOl3R"
   },
   "source": [
    "# Geospatial Data\n",
    "In this section, we will practice manipulating and plotting geospatial data."
   ]
  },
  {
   "cell_type": "code",
   "execution_count": 5,
   "metadata": {
    "id": "dD3dIhHDOaLU"
   },
   "outputs": [],
   "source": [
    "import geopandas as gpd\n",
    "import matplotlib.pyplot as plt"
   ]
  },
  {
   "cell_type": "markdown",
   "metadata": {
    "id": "htdRekAhPYAW"
   },
   "source": [
    "## Our Dataset: Countries!\n",
    "Run the cell below to see the countries GeoDataFrame from yesterday's lecture, which you'll be working with today."
   ]
  },
  {
   "cell_type": "code",
   "execution_count": 6,
   "metadata": {
    "id": "9yxmf6kYQkhJ",
    "scrolled": true
   },
   "outputs": [],
   "source": [
    "countries = gpd.read_file(\"ne_110m_admin_0_countries.shp\")"
   ]
  },
  {
   "cell_type": "markdown",
   "metadata": {
    "id": "Me8yoj1VSCPm"
   },
   "source": [
    "## Group Activity"
   ]
  },
  {
   "cell_type": "markdown",
   "metadata": {
    "id": "KloIRAbGSYdB"
   },
   "source": [
    "Write a function called `highlight_population` that takes a countries GeoDataFrame and a continent name as input and returns a plot that colors the specified continent based on its population. Instead of plotting raw population numbers, the color should represent the continent's population as a percentage of the global population. To do this, you should add a new column to the dataset called `pop_ratio`.\n",
    "\n",
    "The plot should show all countries outside of the continent as grey (color being `#EEEEEE` and edgecolor `#FFFFFF`). The plot should also include a legend. The legend should be scaled so the minimum value is 0 (`vmin=0`) and the maximum value is 1 (`vmax=1`). Finally, make sure the figsize is set to `figsize=(15, 10)`."
   ]
  },
  {
   "cell_type": "code",
   "execution_count": 7,
   "metadata": {
    "id": "0edikr5ySGrM",
    "outputId": "0a962869-7cd7-4864-ccc4-7ba0cd3364ee"
   },
   "outputs": [],
   "source": [
    "def highlight_population(countries, continent):\n",
    "    \"\"\"Given a GeoDataFrame representing world data and a string continent name,\n",
    "    returns a plot that colors the inputted continent\n",
    "    as a ratio of gloabal population\"\"\"\n",
    "\n",
    "    # TODO: write this function!\n",
    "    ...\n",
    "\n",
    "highlight_population(countries, \"Africa\")"
   ]
  },
  {
   "cell_type": "markdown",
   "metadata": {
    "id": "7pHximoEUeiM"
   },
   "source": [
    "Write a function called `gdp_and_population_ratio` that takes a countries GeoDataFrame as input and returns an `Axes` object with two subplots. The first subplot should color each continent based on its percentage of the world's population, while the second should color each continent based on its percentage of the world’s GDP. To achieve this, you may add new columns to the dataset called `pop_ratio` and `gdp_ratio`.\n",
    "\n",
    "The plot should also include a legend. The legend should be scaled so the minimum value is 0 (`vmin=0`) and the maximum value is 1 (`vmax=1`). Finally, make sure the figsize is set to `figsize=(15, 10)`!\n",
    "\n",
    "*HINT: In order to find which columns you might want to use, you can use the `list(countries.columns)` properties to inspect what columns are in the dataset.*"
   ]
  },
  {
   "cell_type": "code",
   "execution_count": 8,
   "metadata": {
    "id": "6tLCUlSAU5Ly",
    "outputId": "940ad094-b410-44b8-9ece-2db87d31ad65"
   },
   "outputs": [],
   "source": [
    "def gdp_and_population_ratio(countries):\n",
    "    \"\"\"Given a GeoDataFrame representing world data,\n",
    "    returns a two figure plot that shows world GDP and\n",
    "    population ratios\"\"\"\n",
    "\n",
    "    # TODO: write this function!\n",
    "    ...\n",
    "\n",
    "\n",
    "gdp_and_population_ratio(countries)"
   ]
  }
 ],
 "metadata": {
  "colab": {
   "provenance": []
  },
  "kernelspec": {
   "display_name": "Python 3 (ipykernel)",
   "language": "python",
   "name": "python3"
  },
  "language_info": {
   "codemirror_mode": {
    "name": "ipython",
    "version": 3
   },
   "file_extension": ".py",
   "mimetype": "text/x-python",
   "name": "python",
   "nbconvert_exporter": "python",
   "pygments_lexer": "ipython3",
   "version": "3.11.9"
  }
 },
 "nbformat": 4,
 "nbformat_minor": 4
}
