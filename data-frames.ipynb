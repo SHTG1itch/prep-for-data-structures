{
 "cells": [
  {
   "cell_type": "markdown",
   "id": "e7c097be-42db-4453-a30a-e239d8bbd913",
   "metadata": {},
   "source": [
    "# Data Frames\n",
    "\n",
    "Earlier, we learned how to process CSV files using the list of dictionaries representation. This week, we will introduce `pandas`, the most commonly-used Python data programming tool and one that we'll be using for the remainder of the course. By the end of this lesson, students will be able to:\n",
    "\n",
    "- Import values and functions from another module using `import` and `from` statements.\n",
    "- Select individual columns from a `pandas` `DataFrame` and apply element-wise computations.\n",
    "- Filter a `pandas` `DataFrame` or `Series` with a boolean series.\n",
    "\n",
    "The last two learning objectives are particularly ambitious: it will take much more deliberate practice before you feel comfortable."
   ]
  },
  {
   "cell_type": "code",
   "execution_count": 1,
   "id": "188a879d-9207-47bb-8b67-4a67cf24e1c4",
   "metadata": {},
   "outputs": [],
   "source": [
    "import doctest\n",
    "import io\n",
    "import pandas as pd"
   ]
  },
  {
   "cell_type": "markdown",
   "id": "5bf5d07b-c816-4f82-8683-672c8235ad05",
   "metadata": {},
   "source": [
    "## Import statements\n",
    "\n",
    "We've been writing some curious lines of code called **import statements** to use code written in a separate **module** by other people.\n",
    "\n",
    "The simplest syntax uses the `import` statement to import a module like `doctest`. We can then call the definitions within that module like `doctest.testmod()` to run all our doctests.\n",
    "\n",
    "```python\n",
    "import doctest\n",
    "doctest.testmod()\n",
    "```\n",
    "\n",
    "We can also import a module and rename it to a more convenient shorthand, like `pd` instead of `pandas`. We can then call the definitions within the module like `pd.read_csv(path).to_dict(\"records\")` to read a CSV file and then convert it into our list of dictionaries (\"records\") representation.\n",
    "\n",
    "```python\n",
    "import pandas as pd\n",
    "earthquakes = pd.read_csv(path).to_dict(\"records\")\n",
    "```\n",
    "\n",
    "Finally, Python can also import just a single definition from a module. Here, we ask Python to only import the `Counter` dictionary type from the `collections` module.\n",
    "\n",
    "```python\n",
    "from collections import Counter\n",
    "with open(path) as f:\n",
    "    return Counter(f.read().split())\n",
    "```\n",
    "\n",
    "A common practice in notebooks is to add your imports to the first code cell at the top of your notebook so that someone who's running your notebook will know what modules they will need to install to run the code."
   ]
  },
  {
   "cell_type": "markdown",
   "id": "316cfb60-c6c7-419e-b224-e492d45f5899",
   "metadata": {},
   "source": [
    "## Creating a Data Frame\n",
    "\n",
    "To create a dataframe, call `pd.read_csv(path)`. In addition to reading CSV data from a file, `pd.read_csv` also accepts `io.StringIO` to read-in CSV data directly from a Python string for specifying small datasets directly in a code cell."
   ]
  },
  {
   "cell_type": "code",
   "execution_count": 2,
   "id": "81d2bc0a-87d3-44c6-8b10-ae3043ed380e",
   "metadata": {},
   "outputs": [
    {
     "data": {
      "text/html": [
       "<div>\n",
       "<style scoped>\n",
       "    .dataframe tbody tr th:only-of-type {\n",
       "        vertical-align: middle;\n",
       "    }\n",
       "\n",
       "    .dataframe tbody tr th {\n",
       "        vertical-align: top;\n",
       "    }\n",
       "\n",
       "    .dataframe thead th {\n",
       "        text-align: right;\n",
       "    }\n",
       "</style>\n",
       "<table border=\"1\" class=\"dataframe\">\n",
       "  <thead>\n",
       "    <tr style=\"text-align: right;\">\n",
       "      <th></th>\n",
       "      <th>Name</th>\n",
       "      <th>Hours</th>\n",
       "    </tr>\n",
       "  </thead>\n",
       "  <tbody>\n",
       "    <tr>\n",
       "      <th>0</th>\n",
       "      <td>Anna</td>\n",
       "      <td>20</td>\n",
       "    </tr>\n",
       "    <tr>\n",
       "      <th>1</th>\n",
       "      <td>Iris</td>\n",
       "      <td>15</td>\n",
       "    </tr>\n",
       "    <tr>\n",
       "      <th>2</th>\n",
       "      <td>Abiy</td>\n",
       "      <td>10</td>\n",
       "    </tr>\n",
       "    <tr>\n",
       "      <th>3</th>\n",
       "      <td>Gege</td>\n",
       "      <td>12</td>\n",
       "    </tr>\n",
       "  </tbody>\n",
       "</table>\n",
       "</div>"
      ],
      "text/plain": [
       "   Name  Hours\n",
       "0  Anna     20\n",
       "1  Iris     15\n",
       "2  Abiy     10\n",
       "3  Gege     12"
      ]
     },
     "execution_count": 2,
     "metadata": {},
     "output_type": "execute_result"
    }
   ],
   "source": [
    "csv = \"\"\"\n",
    "Name,Hours\n",
    "Anna,20\n",
    "Iris,15\n",
    "Abiy,10\n",
    "Gege,12\n",
    "\"\"\"\n",
    "\n",
    "staff = pd.read_csv(io.StringIO(csv))\n",
    "staff"
   ]
  },
  {
   "cell_type": "markdown",
   "id": "c48c5f18-9310-4505-8a5e-1919ac963448",
   "metadata": {},
   "source": [
    "The **index** of a `DataFrame` appears in bold across the left (rows) and defines the keys for accessing values in a data frame. Like keys in a dictionary, the keys in an index should be unique.\n",
    "\n",
    "By default, an integer index is provided, but you'll often want to set a more meaningful index. We can use the `df.set_index(colname)` function to return a new `DataFrame` with a more meaningful index that will be handy for later. In the example below, we assume that each TA has a unique name, though this assumption has severe limits in practice: people can change their names, or we might eventually run a course where two people share the same names."
   ]
  },
  {
   "cell_type": "code",
   "execution_count": 3,
   "id": "d2c43281-03db-4595-b6e7-68d50c678a9d",
   "metadata": {},
   "outputs": [
    {
     "data": {
      "text/html": [
       "<div>\n",
       "<style scoped>\n",
       "    .dataframe tbody tr th:only-of-type {\n",
       "        vertical-align: middle;\n",
       "    }\n",
       "\n",
       "    .dataframe tbody tr th {\n",
       "        vertical-align: top;\n",
       "    }\n",
       "\n",
       "    .dataframe thead th {\n",
       "        text-align: right;\n",
       "    }\n",
       "</style>\n",
       "<table border=\"1\" class=\"dataframe\">\n",
       "  <thead>\n",
       "    <tr style=\"text-align: right;\">\n",
       "      <th></th>\n",
       "      <th>Hours</th>\n",
       "    </tr>\n",
       "    <tr>\n",
       "      <th>Name</th>\n",
       "      <th></th>\n",
       "    </tr>\n",
       "  </thead>\n",
       "  <tbody>\n",
       "    <tr>\n",
       "      <th>Anna</th>\n",
       "      <td>20</td>\n",
       "    </tr>\n",
       "    <tr>\n",
       "      <th>Iris</th>\n",
       "      <td>15</td>\n",
       "    </tr>\n",
       "    <tr>\n",
       "      <th>Abiy</th>\n",
       "      <td>10</td>\n",
       "    </tr>\n",
       "    <tr>\n",
       "      <th>Gege</th>\n",
       "      <td>12</td>\n",
       "    </tr>\n",
       "  </tbody>\n",
       "</table>\n",
       "</div>"
      ],
      "text/plain": [
       "      Hours\n",
       "Name       \n",
       "Anna     20\n",
       "Iris     15\n",
       "Abiy     10\n",
       "Gege     12"
      ]
     },
     "execution_count": 3,
     "metadata": {},
     "output_type": "execute_result"
    }
   ],
   "source": [
    "staff = staff.set_index(\"Name\")\n",
    "staff"
   ]
  },
  {
   "cell_type": "markdown",
   "id": "c8e21aa3-787c-40d6-8e49-73e384b1fcad",
   "metadata": {},
   "source": [
    "## Column indexers\n",
    "\n",
    "In `pandas`, tabular data is represented by a `DataFrame` as shown above. Unlike the list of dictionaries format that required us to write a loop to access the name of every TA, `pandas` provides special syntax to help us achieve this result."
   ]
  },
  {
   "cell_type": "code",
   "execution_count": 4,
   "id": "b5a5bc85-2e3b-4672-9d43-8a13d2434e15",
   "metadata": {},
   "outputs": [
    {
     "data": {
      "text/plain": [
       "Index(['Anna', 'Iris', 'Abiy', 'Gege'], dtype='object', name='Name')"
      ]
     },
     "execution_count": 4,
     "metadata": {},
     "output_type": "execute_result"
    }
   ],
   "source": [
    "staff.index"
   ]
  },
  {
   "cell_type": "code",
   "execution_count": 5,
   "id": "960097c5-06c6-45c5-b081-45a69af1c2aa",
   "metadata": {},
   "outputs": [
    {
     "data": {
      "text/plain": [
       "Name\n",
       "Anna    20\n",
       "Iris    15\n",
       "Abiy    10\n",
       "Gege    12\n",
       "Name: Hours, dtype: int64"
      ]
     },
     "execution_count": 5,
     "metadata": {},
     "output_type": "execute_result"
    }
   ],
   "source": [
    "staff[\"Hours\"]"
   ]
  },
  {
   "cell_type": "markdown",
   "id": "ac844219-7ffb-4439-a823-e25892a3cc0b",
   "metadata": {},
   "source": [
    "`df[\"Hours\"]` returns a `pandas` object called a `Series` that represents a single column or row of a `DataFrame`. A `Series` is very similar to a `list` from Python, but has several convenient functions for data analysis.\n",
    "\n",
    "- `s.mean()` returns the average value in `s`.\n",
    "- `s.min()` returns the minimum value in `s`.\n",
    "  - `s.idxmin()` returns the label of the minimum value in `s`.\n",
    "- `s.max()` returns the maximum value in `s`.\n",
    "  - `s.idxmax()` returns the label of the maximum value in `s`.\n",
    "- `s.unique()` returns a new `Series` with all the unique values in `s`.\n",
    "- `s.describe()` returns a new `Series` containing descriptive statistics for the data in `s`."
   ]
  },
  {
   "cell_type": "code",
   "execution_count": 6,
   "id": "0a6b0230-9368-4b76-a3bf-7e72e7641acd",
   "metadata": {},
   "outputs": [
    {
     "data": {
      "text/plain": [
       "count     4.000000\n",
       "mean     14.250000\n",
       "std       4.349329\n",
       "min      10.000000\n",
       "25%      11.500000\n",
       "50%      13.500000\n",
       "75%      16.250000\n",
       "max      20.000000\n",
       "Name: Hours, dtype: float64"
      ]
     },
     "execution_count": 6,
     "metadata": {},
     "output_type": "execute_result"
    }
   ],
   "source": [
    "staff[\"Hours\"].describe()"
   ]
  },
  {
   "cell_type": "markdown",
   "id": "061ee43f-8d02-4788-a78e-2b7113c1386c",
   "metadata": {},
   "source": [
    "Defining a more meaningful index allows us to select specific values from a series just by referring to the desired key."
   ]
  },
  {
   "cell_type": "code",
   "execution_count": 7,
   "id": "d0613bfe-c405-4aff-b50a-d9c8fa20c507",
   "metadata": {},
   "outputs": [
    {
     "data": {
      "text/plain": [
       "np.int64(15)"
      ]
     },
     "execution_count": 7,
     "metadata": {},
     "output_type": "execute_result"
    }
   ],
   "source": [
    "staff[\"Hours\"][\"Iris\"]"
   ]
  },
  {
   "cell_type": "markdown",
   "id": "7bde2945-40d5-41d4-88bd-5b3ff10487fd",
   "metadata": {},
   "source": [
    "How can we compute the range of TA hours by calling the `min()` and `max()` functions? For this example dataset, the range should be 10 since Anna has 20 hours and Abiy has 10 hours for a difference of 10."
   ]
  },
  {
   "cell_type": "code",
   "execution_count": null,
   "id": "7927075e-9e07-4ce6-a431-48db54434838",
   "metadata": {},
   "outputs": [],
   "source": []
  },
  {
   "cell_type": "markdown",
   "id": "b5283b30-f536-4bae-a1e5-dc97f7180c3f",
   "metadata": {},
   "source": [
    "### Element-wise operations\n",
    "\n",
    "Let's consider a slightly more complex dataset that has more columns, like this made-up emissions dataset. The `pd.read_csv` function also includes an `index_col` parameter that you can use to set the index while reading the dataset."
   ]
  },
  {
   "cell_type": "code",
   "execution_count": 8,
   "id": "a5992820-7a7a-4981-80b0-0b1711e1fee4",
   "metadata": {},
   "outputs": [
    {
     "data": {
      "text/html": [
       "<div>\n",
       "<style scoped>\n",
       "    .dataframe tbody tr th:only-of-type {\n",
       "        vertical-align: middle;\n",
       "    }\n",
       "\n",
       "    .dataframe tbody tr th {\n",
       "        vertical-align: top;\n",
       "    }\n",
       "\n",
       "    .dataframe thead th {\n",
       "        text-align: right;\n",
       "    }\n",
       "</style>\n",
       "<table border=\"1\" class=\"dataframe\">\n",
       "  <thead>\n",
       "    <tr style=\"text-align: right;\">\n",
       "      <th></th>\n",
       "      <th>Country</th>\n",
       "      <th>Emissions</th>\n",
       "      <th>Population</th>\n",
       "    </tr>\n",
       "    <tr>\n",
       "      <th>City</th>\n",
       "      <th></th>\n",
       "      <th></th>\n",
       "      <th></th>\n",
       "    </tr>\n",
       "  </thead>\n",
       "  <tbody>\n",
       "    <tr>\n",
       "      <th>New York</th>\n",
       "      <td>USA</td>\n",
       "      <td>200</td>\n",
       "      <td>1500</td>\n",
       "    </tr>\n",
       "    <tr>\n",
       "      <th>Paris</th>\n",
       "      <td>France</td>\n",
       "      <td>48</td>\n",
       "      <td>42</td>\n",
       "    </tr>\n",
       "    <tr>\n",
       "      <th>Beijing</th>\n",
       "      <td>China</td>\n",
       "      <td>300</td>\n",
       "      <td>2000</td>\n",
       "    </tr>\n",
       "    <tr>\n",
       "      <th>Nice</th>\n",
       "      <td>France</td>\n",
       "      <td>40</td>\n",
       "      <td>60</td>\n",
       "    </tr>\n",
       "    <tr>\n",
       "      <th>Seattle</th>\n",
       "      <td>USA</td>\n",
       "      <td>100</td>\n",
       "      <td>1000</td>\n",
       "    </tr>\n",
       "  </tbody>\n",
       "</table>\n",
       "</div>"
      ],
      "text/plain": [
       "         Country  Emissions  Population\n",
       "City                                   \n",
       "New York     USA        200        1500\n",
       "Paris     France         48          42\n",
       "Beijing    China        300        2000\n",
       "Nice      France         40          60\n",
       "Seattle      USA        100        1000"
      ]
     },
     "execution_count": 8,
     "metadata": {},
     "output_type": "execute_result"
    }
   ],
   "source": [
    "csv = \"\"\"\n",
    "City,Country,Emissions,Population\n",
    "New York,USA,200,1500\n",
    "Paris,France,48,42\n",
    "Beijing,China,300,2000\n",
    "Nice,France,40,60\n",
    "Seattle,USA,100,1000\n",
    "\"\"\"\n",
    "\n",
    "emissions = pd.read_csv(io.StringIO(csv), index_col=\"City\")\n",
    "emissions"
   ]
  },
  {
   "cell_type": "markdown",
   "id": "b83284b6-4f2f-4005-9c90-3a6ac2d746a7",
   "metadata": {},
   "source": [
    "`pandas` can help us answer questions like the emissions per capita: emissions divided by population for each city."
   ]
  },
  {
   "cell_type": "code",
   "execution_count": 9,
   "id": "288a9721-e810-478f-862e-504e13b0f28f",
   "metadata": {},
   "outputs": [
    {
     "data": {
      "text/plain": [
       "City\n",
       "New York    0.133333\n",
       "Paris       1.142857\n",
       "Beijing     0.150000\n",
       "Nice        0.666667\n",
       "Seattle     0.100000\n",
       "dtype: float64"
      ]
     },
     "execution_count": 9,
     "metadata": {},
     "output_type": "execute_result"
    }
   ],
   "source": [
    "emissions[\"Emissions\"] / emissions[\"Population\"]"
   ]
  },
  {
   "cell_type": "markdown",
   "id": "6698e996-5b8f-42e1-aff5-ff43751d156b",
   "metadata": {},
   "source": [
    "Element-wise operations also work if one of the operands is a single value rather than a `Series`. For example, the following cell adds 4 to each city population."
   ]
  },
  {
   "cell_type": "code",
   "execution_count": 10,
   "id": "f46a9f00-cb81-42e6-be61-d6a3a26ed2ea",
   "metadata": {},
   "outputs": [
    {
     "data": {
      "text/plain": [
       "City\n",
       "New York    1504\n",
       "Paris         46\n",
       "Beijing     2004\n",
       "Nice          64\n",
       "Seattle     1004\n",
       "Name: Population, dtype: int64"
      ]
     },
     "execution_count": 10,
     "metadata": {},
     "output_type": "execute_result"
    }
   ],
   "source": [
    "emissions[\"Population\"] + 4"
   ]
  },
  {
   "cell_type": "markdown",
   "id": "6da92261-03d2-48ec-bc45-ba67839ff7c0",
   "metadata": {},
   "source": [
    "## Row indexers\n",
    "\n",
    "All the above operations apply to every row in the original data frame. What if our questions involve returning just a few rows, like **filtering** the data to identify only the cities that have at least 200 emissions?"
   ]
  },
  {
   "cell_type": "code",
   "execution_count": 11,
   "id": "e7469e9b-f880-4db6-aa23-450ea90d401a",
   "metadata": {},
   "outputs": [
    {
     "data": {
      "text/html": [
       "<div>\n",
       "<style scoped>\n",
       "    .dataframe tbody tr th:only-of-type {\n",
       "        vertical-align: middle;\n",
       "    }\n",
       "\n",
       "    .dataframe tbody tr th {\n",
       "        vertical-align: top;\n",
       "    }\n",
       "\n",
       "    .dataframe thead th {\n",
       "        text-align: right;\n",
       "    }\n",
       "</style>\n",
       "<table border=\"1\" class=\"dataframe\">\n",
       "  <thead>\n",
       "    <tr style=\"text-align: right;\">\n",
       "      <th></th>\n",
       "      <th>Country</th>\n",
       "      <th>Emissions</th>\n",
       "      <th>Population</th>\n",
       "    </tr>\n",
       "    <tr>\n",
       "      <th>City</th>\n",
       "      <th></th>\n",
       "      <th></th>\n",
       "      <th></th>\n",
       "    </tr>\n",
       "  </thead>\n",
       "  <tbody>\n",
       "    <tr>\n",
       "      <th>New York</th>\n",
       "      <td>USA</td>\n",
       "      <td>200</td>\n",
       "      <td>1500</td>\n",
       "    </tr>\n",
       "    <tr>\n",
       "      <th>Beijing</th>\n",
       "      <td>China</td>\n",
       "      <td>300</td>\n",
       "      <td>2000</td>\n",
       "    </tr>\n",
       "  </tbody>\n",
       "</table>\n",
       "</div>"
      ],
      "text/plain": [
       "         Country  Emissions  Population\n",
       "City                                   \n",
       "New York     USA        200        1500\n",
       "Beijing    China        300        2000"
      ]
     },
     "execution_count": 11,
     "metadata": {},
     "output_type": "execute_result"
    }
   ],
   "source": [
    "high_emissions = emissions[\"Emissions\"] >= 200\n",
    "emissions[high_emissions]"
   ]
  },
  {
   "cell_type": "markdown",
   "id": "c2c2bd5e-426e-49be-b346-d56db7c96344",
   "metadata": {},
   "source": [
    "This new syntax shows how we can filter a dataframe by indexing it with a boolean series. [PandasTutor](https://pandastutor.com/vis.html#code=import%20pandas%20as%20pd%0Aimport%20io%0A%0Acsv%20%3D%20%22%22%22%0ACity,Country,Emissions,Population%0ANew%20York,USA,200,1500%0AParis,France,48,42%0ABeijing,China,300,2000%0ANice,France,40,60%0ASeattle,USA,100,1000%0A%22%22%22%0A%0Aemissions%20%3D%20pd.read_csv%28io.StringIO%28csv%29,%20index_col%3D%22City%22%29%0Aemissions%5Bemissions%5B%22Emissions%22%5D%20%3E%3D%20200%5D&d=2024-01-16&lang=py&v=v1) shows you how the above output is determined by selecting only the rows that are `True` in the following boolean series."
   ]
  },
  {
   "cell_type": "code",
   "execution_count": 12,
   "id": "1d83ceae-9ef9-4f1a-840d-d074920f110b",
   "metadata": {},
   "outputs": [
    {
     "data": {
      "text/plain": [
       "City\n",
       "New York     True\n",
       "Paris       False\n",
       "Beijing      True\n",
       "Nice        False\n",
       "Seattle     False\n",
       "Name: Emissions, dtype: bool"
      ]
     },
     "execution_count": 12,
     "metadata": {},
     "output_type": "execute_result"
    }
   ],
   "source": [
    "high_emissions"
   ]
  },
  {
   "cell_type": "markdown",
   "id": "a32cc201-cb38-4b2a-aefb-0d0b42c5dea3",
   "metadata": {},
   "source": [
    "Multiple conditions can be combined using the following element-wise operators.\n",
    "\n",
    "- `&` performs an element-wise `and` operation.\n",
    "- `|` performs an element-wise `or` operation.\n",
    "- `~` performs an element-wise `not` operation.\n",
    "\n",
    "Due to how Python evaluates order of operations, parentheses are required when combining boolean series in a single expression."
   ]
  },
  {
   "cell_type": "code",
   "execution_count": 13,
   "id": "c323df58-79fc-42fa-841b-2d29d2883925",
   "metadata": {},
   "outputs": [
    {
     "data": {
      "text/html": [
       "<div>\n",
       "<style scoped>\n",
       "    .dataframe tbody tr th:only-of-type {\n",
       "        vertical-align: middle;\n",
       "    }\n",
       "\n",
       "    .dataframe tbody tr th {\n",
       "        vertical-align: top;\n",
       "    }\n",
       "\n",
       "    .dataframe thead th {\n",
       "        text-align: right;\n",
       "    }\n",
       "</style>\n",
       "<table border=\"1\" class=\"dataframe\">\n",
       "  <thead>\n",
       "    <tr style=\"text-align: right;\">\n",
       "      <th></th>\n",
       "      <th>Country</th>\n",
       "      <th>Emissions</th>\n",
       "      <th>Population</th>\n",
       "    </tr>\n",
       "    <tr>\n",
       "      <th>City</th>\n",
       "      <th></th>\n",
       "      <th></th>\n",
       "      <th></th>\n",
       "    </tr>\n",
       "  </thead>\n",
       "  <tbody>\n",
       "    <tr>\n",
       "      <th>New York</th>\n",
       "      <td>USA</td>\n",
       "      <td>200</td>\n",
       "      <td>1500</td>\n",
       "    </tr>\n",
       "    <tr>\n",
       "      <th>Beijing</th>\n",
       "      <td>China</td>\n",
       "      <td>300</td>\n",
       "      <td>2000</td>\n",
       "    </tr>\n",
       "    <tr>\n",
       "      <th>Seattle</th>\n",
       "      <td>USA</td>\n",
       "      <td>100</td>\n",
       "      <td>1000</td>\n",
       "    </tr>\n",
       "  </tbody>\n",
       "</table>\n",
       "</div>"
      ],
      "text/plain": [
       "         Country  Emissions  Population\n",
       "City                                   \n",
       "New York     USA        200        1500\n",
       "Beijing    China        300        2000\n",
       "Seattle      USA        100        1000"
      ]
     },
     "execution_count": 13,
     "metadata": {},
     "output_type": "execute_result"
    }
   ],
   "source": [
    "emissions[high_emissions | (emissions[\"Country\"] == \"USA\")]"
   ]
  },
  {
   "cell_type": "markdown",
   "id": "ea0a4f62-51a4-4cf4-a684-d187bb89b4e3",
   "metadata": {},
   "source": [
    "Write a one-line `pandas` expression that returns all the cities in France that have a population greater than 50 from the `emissions` dataset."
   ]
  },
  {
   "cell_type": "code",
   "execution_count": 14,
   "id": "69bf5cae-0d37-4c3d-9caa-eeb3d5dcab9f",
   "metadata": {},
   "outputs": [
    {
     "data": {
      "text/html": [
       "<div>\n",
       "<style scoped>\n",
       "    .dataframe tbody tr th:only-of-type {\n",
       "        vertical-align: middle;\n",
       "    }\n",
       "\n",
       "    .dataframe tbody tr th {\n",
       "        vertical-align: top;\n",
       "    }\n",
       "\n",
       "    .dataframe thead th {\n",
       "        text-align: right;\n",
       "    }\n",
       "</style>\n",
       "<table border=\"1\" class=\"dataframe\">\n",
       "  <thead>\n",
       "    <tr style=\"text-align: right;\">\n",
       "      <th></th>\n",
       "      <th>Country</th>\n",
       "      <th>Emissions</th>\n",
       "      <th>Population</th>\n",
       "    </tr>\n",
       "    <tr>\n",
       "      <th>City</th>\n",
       "      <th></th>\n",
       "      <th></th>\n",
       "      <th></th>\n",
       "    </tr>\n",
       "  </thead>\n",
       "  <tbody>\n",
       "    <tr>\n",
       "      <th>Nice</th>\n",
       "      <td>France</td>\n",
       "      <td>40</td>\n",
       "      <td>60</td>\n",
       "    </tr>\n",
       "  </tbody>\n",
       "</table>\n",
       "</div>"
      ],
      "text/plain": [
       "     Country  Emissions  Population\n",
       "City                               \n",
       "Nice  France         40          60"
      ]
     },
     "execution_count": 14,
     "metadata": {},
     "output_type": "execute_result"
    }
   ],
   "source": [
    "emissions[(emissions[\"Country\"]==\"France\") & (emissions[\"Population\"] > 50)]"
   ]
  },
  {
   "cell_type": "markdown",
   "id": "abd90a9e-4524-452e-ac29-95f527800610",
   "metadata": {},
   "source": [
    "## Selection by label\n",
    "\n",
    "To summarize what we've learned so far, `pandas` provides both column indexers and row indexers accessible through the square brackets notation.\n",
    "\n",
    "- `df[colname]` returns the corresponding `Series` from the `df`.\n",
    "- `df[boolean_series]` returns a new `DataFrame` containing just the rows specified `True` in the `boolean_series`.\n",
    "\n",
    "These two access methods are special cases of a more general `df.loc[rows, columns]` function that provides more functionality. For example, we can select just the city populations for cities with at least 200 emissions and visualize the procedure in [PandasTutor](https://pandastutor.com/vis.html#code=import%20pandas%20as%20pd%0Aimport%20io%0A%0Acsv%20%3D%20%22%22%22%0ACity,Country,Emissions,Population%0ANew%20York,USA,200,1500%0AParis,France,48,42%0ABeijing,China,300,2000%0ANice,France,40,60%0ASeattle,USA,100,1000%0A%22%22%22%0A%0Aemissions%20%3D%20pd.read_csv%28io.StringIO%28csv%29,%20index_col%3D%22City%22%29%0Aemissions.loc%5Bemissions%5B%22Emissions%22%5D%20%3E%3D%20200,%20%22Population%22%5D&d=2025-01-22&lang=py&v=v1)."
   ]
  },
  {
   "cell_type": "code",
   "execution_count": 15,
   "id": "04174898-3a64-41d6-97ae-1930a8047a6b",
   "metadata": {},
   "outputs": [
    {
     "data": {
      "text/plain": [
       "City\n",
       "New York    1500\n",
       "Beijing     2000\n",
       "Name: Population, dtype: int64"
      ]
     },
     "execution_count": 15,
     "metadata": {},
     "output_type": "execute_result"
    }
   ],
   "source": [
    "emissions.loc[high_emissions, \"Population\"]"
   ]
  },
  {
   "cell_type": "markdown",
   "id": "85cf0b62-71a1-4f7b-825b-d393647da893",
   "metadata": {},
   "source": [
    "Whether a single value, a 1-dimensional `Series`, or a 2-dimensional `DataFrame` is returned depends on the selection.\n",
    "\n",
    "> Notice that label-based slicing includes the endpoint, unlike slicing a Python list."
   ]
  },
  {
   "cell_type": "code",
   "execution_count": 16,
   "id": "a14e8cd0-8408-48d0-b4ed-24bbdd971251",
   "metadata": {},
   "outputs": [
    {
     "data": {
      "text/html": [
       "<div>\n",
       "<style scoped>\n",
       "    .dataframe tbody tr th:only-of-type {\n",
       "        vertical-align: middle;\n",
       "    }\n",
       "\n",
       "    .dataframe tbody tr th {\n",
       "        vertical-align: top;\n",
       "    }\n",
       "\n",
       "    .dataframe thead th {\n",
       "        text-align: right;\n",
       "    }\n",
       "</style>\n",
       "<table border=\"1\" class=\"dataframe\">\n",
       "  <thead>\n",
       "    <tr style=\"text-align: right;\">\n",
       "      <th></th>\n",
       "      <th>Country</th>\n",
       "      <th>Emissions</th>\n",
       "      <th>Population</th>\n",
       "    </tr>\n",
       "    <tr>\n",
       "      <th>City</th>\n",
       "      <th></th>\n",
       "      <th></th>\n",
       "      <th></th>\n",
       "    </tr>\n",
       "  </thead>\n",
       "  <tbody>\n",
       "    <tr>\n",
       "      <th>New York</th>\n",
       "      <td>USA</td>\n",
       "      <td>200</td>\n",
       "      <td>1500</td>\n",
       "    </tr>\n",
       "    <tr>\n",
       "      <th>Beijing</th>\n",
       "      <td>China</td>\n",
       "      <td>300</td>\n",
       "      <td>2000</td>\n",
       "    </tr>\n",
       "  </tbody>\n",
       "</table>\n",
       "</div>"
      ],
      "text/plain": [
       "         Country  Emissions  Population\n",
       "City                                   \n",
       "New York     USA        200        1500\n",
       "Beijing    China        300        2000"
      ]
     },
     "execution_count": 16,
     "metadata": {},
     "output_type": "execute_result"
    }
   ],
   "source": [
    "emissions.loc[high_emissions, \"Country\":\"Population\"]"
   ]
  },
  {
   "cell_type": "code",
   "execution_count": 17,
   "id": "2a6bb7cc-4a42-40dd-9cc0-c338d9af4346",
   "metadata": {},
   "outputs": [
    {
     "data": {
      "text/html": [
       "<div>\n",
       "<style scoped>\n",
       "    .dataframe tbody tr th:only-of-type {\n",
       "        vertical-align: middle;\n",
       "    }\n",
       "\n",
       "    .dataframe tbody tr th {\n",
       "        vertical-align: top;\n",
       "    }\n",
       "\n",
       "    .dataframe thead th {\n",
       "        text-align: right;\n",
       "    }\n",
       "</style>\n",
       "<table border=\"1\" class=\"dataframe\">\n",
       "  <thead>\n",
       "    <tr style=\"text-align: right;\">\n",
       "      <th></th>\n",
       "      <th>Country</th>\n",
       "      <th>Emissions</th>\n",
       "    </tr>\n",
       "    <tr>\n",
       "      <th>City</th>\n",
       "      <th></th>\n",
       "      <th></th>\n",
       "    </tr>\n",
       "  </thead>\n",
       "  <tbody>\n",
       "    <tr>\n",
       "      <th>New York</th>\n",
       "      <td>USA</td>\n",
       "      <td>200</td>\n",
       "    </tr>\n",
       "    <tr>\n",
       "      <th>Paris</th>\n",
       "      <td>France</td>\n",
       "      <td>48</td>\n",
       "    </tr>\n",
       "    <tr>\n",
       "      <th>Beijing</th>\n",
       "      <td>China</td>\n",
       "      <td>300</td>\n",
       "    </tr>\n",
       "    <tr>\n",
       "      <th>Nice</th>\n",
       "      <td>France</td>\n",
       "      <td>40</td>\n",
       "    </tr>\n",
       "    <tr>\n",
       "      <th>Seattle</th>\n",
       "      <td>USA</td>\n",
       "      <td>100</td>\n",
       "    </tr>\n",
       "  </tbody>\n",
       "</table>\n",
       "</div>"
      ],
      "text/plain": [
       "         Country  Emissions\n",
       "City                       \n",
       "New York     USA        200\n",
       "Paris     France         48\n",
       "Beijing    China        300\n",
       "Nice      France         40\n",
       "Seattle      USA        100"
      ]
     },
     "execution_count": 17,
     "metadata": {},
     "output_type": "execute_result"
    }
   ],
   "source": [
    "emissions.loc[:, [\"Country\", \"Emissions\"]]"
   ]
  },
  {
   "cell_type": "code",
   "execution_count": 18,
   "id": "b723562f-a70a-43a8-a178-936d34e63f19",
   "metadata": {},
   "outputs": [
    {
     "data": {
      "text/plain": [
       "'France'"
      ]
     },
     "execution_count": 18,
     "metadata": {},
     "output_type": "execute_result"
    }
   ],
   "source": [
    "emissions.loc[\"Paris\", \"Country\"]"
   ]
  },
  {
   "cell_type": "markdown",
   "id": "ef762b81-5497-4238-8719-b7ed6a176dc7",
   "metadata": {},
   "source": [
    "Returning to our prior `staff` hours example, we can get Iris's hours by using a single `df.loc[index, columns]` access rather than two separate accesses. This convenient syntax only works when we've specified a meaningful index."
   ]
  },
  {
   "cell_type": "code",
   "execution_count": 19,
   "id": "928a5c33-5a79-4086-b19b-9f7748aeb52f",
   "metadata": {},
   "outputs": [
    {
     "data": {
      "text/plain": [
       "np.int64(15)"
      ]
     },
     "execution_count": 19,
     "metadata": {},
     "output_type": "execute_result"
    }
   ],
   "source": [
    "staff.loc[\"Iris\", \"Hours\"]"
   ]
  },
  {
   "cell_type": "markdown",
   "id": "a2530e83-b604-46f8-80af-d92105fa16a6",
   "metadata": {},
   "source": [
    "## Practice: Largest earthquake place (Pandas)\n",
    "\n",
    "Previously, we learned about two ways to write Python code to read earthquakes as a list of dictionaries and return the name of the place with the largest-magnitude earthquake."
   ]
  },
  {
   "cell_type": "code",
   "execution_count": 20,
   "id": "e22aca2a-f78f-4c9d-9174-fd57dd1e609f",
   "metadata": {},
   "outputs": [
    {
     "name": "stdout",
     "output_type": "stream",
     "text": [
      "**********************************************************************\n",
      "File \"__main__\", line 5, in NoName\n",
      "Failed example:\n",
      "    largest_earthquake_place(\"earthquakes.csv\")\n",
      "Exception raised:\n",
      "    Traceback (most recent call last):\n",
      "      File \"/usr/local/python/3.12.1/lib/python3.12/doctest.py\", line 1359, in __run\n",
      "        exec(compile(example.source, filename, \"single\",\n",
      "      File \"<doctest NoName[0]>\", line 1, in <module>\n",
      "        largest_earthquake_place(\"earthquakes.csv\")\n",
      "      File \"/tmp/ipykernel_13342/4196872175.py\", line 8, in largest_earthquake_place\n",
      "        earthquakes = pd.read_csv(path).to_dict(\"records\")\n",
      "                      ^^^^^^^^^^^^^^^^^\n",
      "      File \"/home/codespace/.local/lib/python3.12/site-packages/pandas/io/parsers/readers.py\", line 1026, in read_csv\n",
      "        return _read(filepath_or_buffer, kwds)\n",
      "               ^^^^^^^^^^^^^^^^^^^^^^^^^^^^^^^\n",
      "      File \"/home/codespace/.local/lib/python3.12/site-packages/pandas/io/parsers/readers.py\", line 620, in _read\n",
      "        parser = TextFileReader(filepath_or_buffer, **kwds)\n",
      "                 ^^^^^^^^^^^^^^^^^^^^^^^^^^^^^^^^^^^^^^^^^^\n",
      "      File \"/home/codespace/.local/lib/python3.12/site-packages/pandas/io/parsers/readers.py\", line 1620, in __init__\n",
      "        self._engine = self._make_engine(f, self.engine)\n",
      "                       ^^^^^^^^^^^^^^^^^^^^^^^^^^^^^^^^^\n",
      "      File \"/home/codespace/.local/lib/python3.12/site-packages/pandas/io/parsers/readers.py\", line 1880, in _make_engine\n",
      "        self.handles = get_handle(\n",
      "                       ^^^^^^^^^^^\n",
      "      File \"/home/codespace/.local/lib/python3.12/site-packages/pandas/io/common.py\", line 873, in get_handle\n",
      "        handle = open(\n",
      "                 ^^^^^\n",
      "    FileNotFoundError: [Errno 2] No such file or directory: 'earthquakes.csv'\n"
     ]
    }
   ],
   "source": [
    "def largest_earthquake_place(path):\n",
    "    \"\"\"\n",
    "    Returns the name of the place with the largest-magnitude earthquake in the specified CSV file.\n",
    "\n",
    "    >>> largest_earthquake_place(\"earthquakes.csv\")\n",
    "    'Northern Mariana Islands'\n",
    "    \"\"\"\n",
    "    earthquakes = pd.read_csv(path).to_dict(\"records\")\n",
    "\n",
    "    max_name = None\n",
    "    max_magn = None\n",
    "    for earthquake in earthquakes:\n",
    "        if max_magn is None or earthquake[\"magnitude\"] > max_magn:\n",
    "            max_name = earthquake[\"name\"]\n",
    "            max_magn = earthquake[\"magnitude\"]\n",
    "    return max_name\n",
    "\n",
    "\n",
    "doctest.run_docstring_examples(largest_earthquake_place, globals())"
   ]
  },
  {
   "cell_type": "markdown",
   "id": "2538436f-b40a-4005-bb4f-8cfa56904d57",
   "metadata": {},
   "source": [
    "How might we convert this program to solve the problem directly with a `DataFrame` instead?"
   ]
  },
  {
   "cell_type": "code",
   "execution_count": 21,
   "id": "134bea3f-166c-46a0-be90-955e1b94b953",
   "metadata": {},
   "outputs": [
    {
     "name": "stdout",
     "output_type": "stream",
     "text": [
      "**********************************************************************\n",
      "File \"__main__\", line 5, in NoName\n",
      "Failed example:\n",
      "    largest_earthquake_place(\"earthquakes.csv\")\n",
      "Exception raised:\n",
      "    Traceback (most recent call last):\n",
      "      File \"/usr/local/python/3.12.1/lib/python3.12/doctest.py\", line 1359, in __run\n",
      "        exec(compile(example.source, filename, \"single\",\n",
      "      File \"<doctest NoName[0]>\", line 1, in <module>\n",
      "        largest_earthquake_place(\"earthquakes.csv\")\n",
      "      File \"/tmp/ipykernel_13342/424810551.py\", line 8, in largest_earthquake_place\n",
      "        earthquakes = pd.read_csv(path, index_col=\"id\")\n",
      "                      ^^^^^^^^^^^^^^^^^^^^^^^^^^^^^^^^^\n",
      "      File \"/home/codespace/.local/lib/python3.12/site-packages/pandas/io/parsers/readers.py\", line 1026, in read_csv\n",
      "        return _read(filepath_or_buffer, kwds)\n",
      "               ^^^^^^^^^^^^^^^^^^^^^^^^^^^^^^^\n",
      "      File \"/home/codespace/.local/lib/python3.12/site-packages/pandas/io/parsers/readers.py\", line 620, in _read\n",
      "        parser = TextFileReader(filepath_or_buffer, **kwds)\n",
      "                 ^^^^^^^^^^^^^^^^^^^^^^^^^^^^^^^^^^^^^^^^^^\n",
      "      File \"/home/codespace/.local/lib/python3.12/site-packages/pandas/io/parsers/readers.py\", line 1620, in __init__\n",
      "        self._engine = self._make_engine(f, self.engine)\n",
      "                       ^^^^^^^^^^^^^^^^^^^^^^^^^^^^^^^^^\n",
      "      File \"/home/codespace/.local/lib/python3.12/site-packages/pandas/io/parsers/readers.py\", line 1880, in _make_engine\n",
      "        self.handles = get_handle(\n",
      "                       ^^^^^^^^^^^\n",
      "      File \"/home/codespace/.local/lib/python3.12/site-packages/pandas/io/common.py\", line 873, in get_handle\n",
      "        handle = open(\n",
      "                 ^^^^^\n",
      "    FileNotFoundError: [Errno 2] No such file or directory: 'earthquakes.csv'\n"
     ]
    }
   ],
   "source": [
    "def largest_earthquake_place(path):\n",
    "    \"\"\"\n",
    "    Returns the name of the place with the largest-magnitude earthquake in the specified CSV file.\n",
    "\n",
    "    >>> largest_earthquake_place(\"earthquakes.csv\")\n",
    "    'Northern Mariana Islands'\n",
    "    \"\"\"\n",
    "    earthquakes = pd.read_csv(path, index_col=\"id\")\n",
    "    display(earthquakes) # Helpful for debugging: delete when done\n",
    "    ...\n",
    "\n",
    "\n",
    "doctest.run_docstring_examples(largest_earthquake_place, globals())"
   ]
  },
  {
   "attachments": {},
   "cell_type": "markdown",
   "id": "865aa20b-5f98-4439-a989-1d0551c55a6b",
   "metadata": {},
   "source": [
    "## Optional: Selection by position\n",
    "\n",
    "Everything we've learned so far is an example of label-based indexing. But it turns out there's another system of position-based indexing that is also available. Let's compare the 4 approaches.\n",
    "\n",
    "- `df[colname]` returns the corresponding `Series` from the `df`.\n",
    "  - `df[[col1, col2, ...]]` returns a new `DataFrame` containing the corresponding columns from the `df`.\n",
    "- `df[boolean_series]` returns a new `DataFrame` containing just the rows specified `True` in the `boolean_series`.\n",
    "- `df.loc[index, columns]` returns a single value, a `Series`, or a `DataFrame` for the **label-based selection** from the `df`.\n",
    "- `df.iloc[rows, columns]` returns a single value, a `Series`, or a `DataFrame` for the **position-based selection** from the `df`.\n",
    "\n",
    "Label-based indexing uses the bolded column and row indexers. Position-based indexing uses **purely integer-based indexing**. Slicing by position excludes the endpoint, just like slicing a Python list. Position-based indexing is most useful when you have a position-based query that can't be easily specified using only label-based indexing. For example, we might know that we want to select just the rightmost two columns from a dataframe without knowing the column names."
   ]
  },
  {
   "cell_type": "code",
   "execution_count": 22,
   "id": "35520695-1c7b-4a39-b87a-3a417163f908",
   "metadata": {},
   "outputs": [
    {
     "data": {
      "text/html": [
       "<div>\n",
       "<style scoped>\n",
       "    .dataframe tbody tr th:only-of-type {\n",
       "        vertical-align: middle;\n",
       "    }\n",
       "\n",
       "    .dataframe tbody tr th {\n",
       "        vertical-align: top;\n",
       "    }\n",
       "\n",
       "    .dataframe thead th {\n",
       "        text-align: right;\n",
       "    }\n",
       "</style>\n",
       "<table border=\"1\" class=\"dataframe\">\n",
       "  <thead>\n",
       "    <tr style=\"text-align: right;\">\n",
       "      <th></th>\n",
       "      <th>Emissions</th>\n",
       "      <th>Population</th>\n",
       "    </tr>\n",
       "    <tr>\n",
       "      <th>City</th>\n",
       "      <th></th>\n",
       "      <th></th>\n",
       "    </tr>\n",
       "  </thead>\n",
       "  <tbody>\n",
       "    <tr>\n",
       "      <th>New York</th>\n",
       "      <td>200</td>\n",
       "      <td>1500</td>\n",
       "    </tr>\n",
       "    <tr>\n",
       "      <th>Paris</th>\n",
       "      <td>48</td>\n",
       "      <td>42</td>\n",
       "    </tr>\n",
       "    <tr>\n",
       "      <th>Beijing</th>\n",
       "      <td>300</td>\n",
       "      <td>2000</td>\n",
       "    </tr>\n",
       "    <tr>\n",
       "      <th>Nice</th>\n",
       "      <td>40</td>\n",
       "      <td>60</td>\n",
       "    </tr>\n",
       "    <tr>\n",
       "      <th>Seattle</th>\n",
       "      <td>100</td>\n",
       "      <td>1000</td>\n",
       "    </tr>\n",
       "  </tbody>\n",
       "</table>\n",
       "</div>"
      ],
      "text/plain": [
       "          Emissions  Population\n",
       "City                           \n",
       "New York        200        1500\n",
       "Paris            48          42\n",
       "Beijing         300        2000\n",
       "Nice             40          60\n",
       "Seattle         100        1000"
      ]
     },
     "execution_count": 22,
     "metadata": {},
     "output_type": "execute_result"
    }
   ],
   "source": [
    "emissions.iloc[:, -2:]"
   ]
  },
  {
   "cell_type": "markdown",
   "id": "cce76b97-af1b-4988-b3e7-44599a0d080d",
   "metadata": {},
   "source": [
    "We generally won't use position-based selections in this course, but you may run into code that uses them elsewhere."
   ]
  }
 ],
 "metadata": {
  "kernelspec": {
   "display_name": "Python 3",
   "language": "python",
   "name": "python3"
  },
  "language_info": {
   "codemirror_mode": {
    "name": "ipython",
    "version": 3
   },
   "file_extension": ".py",
   "mimetype": "text/x-python",
   "name": "python",
   "nbconvert_exporter": "python",
   "pygments_lexer": "ipython3",
   "version": "3.12.1"
  }
 },
 "nbformat": 4,
 "nbformat_minor": 5
}
